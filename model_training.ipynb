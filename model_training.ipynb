{
 "cells": [
  {
   "cell_type": "code",
   "execution_count": 4,
   "metadata": {},
   "outputs": [
    {
     "name": "stderr",
     "output_type": "stream",
     "text": [
      "Using TensorFlow backend.\n"
     ]
    }
   ],
   "source": [
    "import numpy as np\n",
    "import pandas as pd\n",
    "import json\n",
    "import warnings\n",
    "warnings.simplefilter(action='ignore')\n",
    "import keras\n",
    "from keras.models import Sequential\n",
    "from keras.layers import Dense, Dropout\n",
    "import tensorflowjs as tfjs"
   ]
  },
  {
   "cell_type": "code",
   "execution_count": 5,
   "metadata": {},
   "outputs": [],
   "source": [
    "data_X = pd.DataFrame()\n",
    "data_Y = pd.DataFrame()\n",
    "\n",
    "with open('final_dataset_X.json', 'r') as f:\n",
    "    data_X = pd.read_json(json.load(f))\n",
    "\n",
    "with open('final_dataset_Y.json', 'r') as f:\n",
    "    data_Y = pd.read_json(json.load(f))"
   ]
  },
  {
   "cell_type": "code",
   "execution_count": 8,
   "metadata": {},
   "outputs": [],
   "source": [
    "X_train = data_X[:-5000]\n",
    "Y_train = data_Y[:-5000]\n",
    "X_test = data_X[-5000:]\n",
    "Y_test = data_Y[-5000:]"
   ]
  },
  {
   "cell_type": "code",
   "execution_count": 10,
   "metadata": {},
   "outputs": [],
   "source": [
    "model = Sequential()\n",
    "model.add(Dense(64, activation='relu', input_dim=10))\n",
    "model.add(Dropout(0.5))\n",
    "model.add(Dense(64, activation='relu'))\n",
    "model.add(Dropout(0.5))\n",
    "model.add(Dense(3, activation='softmax'))"
   ]
  },
  {
   "cell_type": "code",
   "execution_count": 11,
   "metadata": {},
   "outputs": [],
   "source": [
    "adam = keras.optimizers.Adam(lr=0.001)"
   ]
  },
  {
   "cell_type": "code",
   "execution_count": 12,
   "metadata": {},
   "outputs": [
    {
     "name": "stdout",
     "output_type": "stream",
     "text": [
      "Epoch 1/50\n",
      "22620/22620 [==============================] - 2s 77us/step - loss: 8.8963 - acc: 0.4411\n",
      "Epoch 2/50\n",
      "22620/22620 [==============================] - 1s 23us/step - loss: 8.1277 - acc: 0.4894\n",
      "Epoch 3/50\n",
      "22620/22620 [==============================] - 1s 24us/step - loss: 7.9671 - acc: 0.5008\n",
      "Epoch 4/50\n",
      "22620/22620 [==============================] - 1s 25us/step - loss: 7.9294 - acc: 0.5045\n",
      "Epoch 5/50\n",
      "22620/22620 [==============================] - 1s 25us/step - loss: 7.8030 - acc: 0.5110\n",
      "Epoch 6/50\n",
      "22620/22620 [==============================] - 1s 26us/step - loss: 7.6483 - acc: 0.5214\n",
      "Epoch 7/50\n",
      "22620/22620 [==============================] - 1s 22us/step - loss: 7.4736 - acc: 0.5316\n",
      "Epoch 8/50\n",
      "22620/22620 [==============================] - 1s 25us/step - loss: 7.3160 - acc: 0.5410\n",
      "Epoch 9/50\n",
      "22620/22620 [==============================] - 1s 24us/step - loss: 7.2175 - acc: 0.5481\n",
      "Epoch 10/50\n",
      "22620/22620 [==============================] - 1s 25us/step - loss: 7.0021 - acc: 0.5604\n",
      "Epoch 11/50\n",
      "22620/22620 [==============================] - 1s 25us/step - loss: 6.7842 - acc: 0.5735\n",
      "Epoch 12/50\n",
      "22620/22620 [==============================] - 1s 24us/step - loss: 6.5911 - acc: 0.5839\n",
      "Epoch 13/50\n",
      "22620/22620 [==============================] - 1s 24us/step - loss: 6.4350 - acc: 0.5917\n",
      "Epoch 14/50\n",
      "22620/22620 [==============================] - 1s 24us/step - loss: 6.2059 - acc: 0.6061\n",
      "Epoch 15/50\n",
      "22620/22620 [==============================] - 1s 25us/step - loss: 6.1068 - acc: 0.6096\n",
      "Epoch 16/50\n",
      "22620/22620 [==============================] - 1s 25us/step - loss: 5.5358 - acc: 0.6389\n",
      "Epoch 17/50\n",
      "22620/22620 [==============================] - 1s 25us/step - loss: 3.1166 - acc: 0.6350\n",
      "Epoch 18/50\n",
      "22620/22620 [==============================] - 1s 24us/step - loss: 1.3005 - acc: 0.6488\n",
      "Epoch 19/50\n",
      "22620/22620 [==============================] - 1s 26us/step - loss: 0.8546 - acc: 0.6912\n",
      "Epoch 20/50\n",
      "22620/22620 [==============================] - 1s 25us/step - loss: 0.7907 - acc: 0.6972\n",
      "Epoch 21/50\n",
      "22620/22620 [==============================] - 1s 25us/step - loss: 0.7496 - acc: 0.7175\n",
      "Epoch 22/50\n",
      "22620/22620 [==============================] - -3s -117us/step - loss: 0.7148 - acc: 0.7250\n",
      "Epoch 23/50\n",
      "22620/22620 [==============================] - 1s 27us/step - loss: 0.6958 - acc: 0.7405\n",
      "Epoch 24/50\n",
      "22620/22620 [==============================] - 1s 27us/step - loss: 0.6771 - acc: 0.7482\n",
      "Epoch 25/50\n",
      "22620/22620 [==============================] - 1s 27us/step - loss: 0.6683 - acc: 0.7379\n",
      "Epoch 26/50\n",
      "22620/22620 [==============================] - 1s 26us/step - loss: 0.6484 - acc: 0.7513\n",
      "Epoch 27/50\n",
      "22620/22620 [==============================] - 1s 24us/step - loss: 0.6221 - acc: 0.7577\n",
      "Epoch 28/50\n",
      "22620/22620 [==============================] - 1s 24us/step - loss: 0.6073 - acc: 0.7628\n",
      "Epoch 29/50\n",
      "22620/22620 [==============================] - 1s 24us/step - loss: 0.5880 - acc: 0.7709\n",
      "Epoch 30/50\n",
      "22620/22620 [==============================] - 1s 24us/step - loss: 0.5878 - acc: 0.7659\n",
      "Epoch 31/50\n",
      "22620/22620 [==============================] - 1s 24us/step - loss: 0.5729 - acc: 0.7709\n",
      "Epoch 32/50\n",
      "22620/22620 [==============================] - 1s 27us/step - loss: 0.5715 - acc: 0.7690\n",
      "Epoch 33/50\n",
      "22620/22620 [==============================] - 1s 25us/step - loss: 0.5455 - acc: 0.7787\n",
      "Epoch 34/50\n",
      "22620/22620 [==============================] - 1s 24us/step - loss: 0.5561 - acc: 0.7716\n",
      "Epoch 35/50\n",
      "22620/22620 [==============================] - 1s 24us/step - loss: 0.5475 - acc: 0.7750\n",
      "Epoch 36/50\n",
      "22620/22620 [==============================] - 1s 25us/step - loss: 0.5330 - acc: 0.7873\n",
      "Epoch 37/50\n",
      "22620/22620 [==============================] - 1s 25us/step - loss: 0.5569 - acc: 0.7711\n",
      "Epoch 38/50\n",
      "22620/22620 [==============================] - 1s 26us/step - loss: 0.5246 - acc: 0.8031\n",
      "Epoch 39/50\n",
      "22620/22620 [==============================] - 1s 24us/step - loss: 0.5064 - acc: 0.7981\n",
      "Epoch 40/50\n",
      "22620/22620 [==============================] - 1s 24us/step - loss: 0.4861 - acc: 0.8124\n",
      "Epoch 41/50\n",
      "22620/22620 [==============================] - 1s 27us/step - loss: 0.4785 - acc: 0.8187\n",
      "Epoch 42/50\n",
      "22620/22620 [==============================] - 1s 26us/step - loss: 0.4840 - acc: 0.8145\n",
      "Epoch 43/50\n",
      "22620/22620 [==============================] - 1s 24us/step - loss: 0.4803 - acc: 0.8100\n",
      "Epoch 44/50\n",
      "22620/22620 [==============================] - 1s 24us/step - loss: 0.4605 - acc: 0.8202\n",
      "Epoch 45/50\n",
      "22620/22620 [==============================] - 1s 23us/step - loss: 0.4308 - acc: 0.8397\n",
      "Epoch 46/50\n",
      "22620/22620 [==============================] - 1s 28us/step - loss: 0.4318 - acc: 0.8380\n",
      "Epoch 47/50\n",
      "22620/22620 [==============================] - 1s 31us/step - loss: 0.4283 - acc: 0.8334\n",
      "Epoch 48/50\n",
      "22620/22620 [==============================] - 1s 25us/step - loss: 0.4419 - acc: 0.8349\n",
      "Epoch 49/50\n",
      "22620/22620 [==============================] - 1s 25us/step - loss: 0.4314 - acc: 0.8383\n",
      "Epoch 50/50\n",
      "22620/22620 [==============================] - 1s 24us/step - loss: 0.4154 - acc: 0.8426\n"
     ]
    },
    {
     "data": {
      "text/plain": [
       "<keras.callbacks.History at 0x105beeba8>"
      ]
     },
     "execution_count": 12,
     "metadata": {},
     "output_type": "execute_result"
    }
   ],
   "source": [
    "model.compile(loss='categorical_crossentropy', optimizer=adam, metrics=['accuracy'])\n",
    "model.fit(X_train, Y_train, epochs=50, batch_size=128)"
   ]
  },
  {
   "cell_type": "code",
   "execution_count": 13,
   "metadata": {},
   "outputs": [
    {
     "name": "stdout",
     "output_type": "stream",
     "text": [
      "5000/5000 [==============================] - 0s 23us/step\n",
      "[0.23132921150922775, 0.9358]\n"
     ]
    }
   ],
   "source": [
    "score = model.evaluate(X_test, Y_test, batch_size=128)\n",
    "print(score)"
   ]
  },
  {
   "cell_type": "code",
   "execution_count": 14,
   "metadata": {},
   "outputs": [],
   "source": [
    "model.save(\"Keras-64x2-50epoch\")\n",
    "tfjs.converters.save_keras_model(model, 'tfjsmodel')"
   ]
  },
  {
   "cell_type": "code",
   "execution_count": null,
   "metadata": {},
   "outputs": [],
   "source": []
  }
 ],
 "metadata": {
  "kernelspec": {
   "display_name": "Python 3",
   "language": "python",
   "name": "python3"
  },
  "language_info": {
   "codemirror_mode": {
    "name": "ipython",
    "version": 3
   },
   "file_extension": ".py",
   "mimetype": "text/x-python",
   "name": "python",
   "nbconvert_exporter": "python",
   "pygments_lexer": "ipython3",
   "version": "3.6.5"
  }
 },
 "nbformat": 4,
 "nbformat_minor": 2
}
